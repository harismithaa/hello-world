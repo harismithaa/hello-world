{
 "cells": [
  {
   "cell_type": "code",
   "execution_count": 1,
   "metadata": {},
   "outputs": [
    {
     "name": "stdout",
     "output_type": "stream",
     "text": [
      "pearson correlation:-0.028923\n"
     ]
    }
   ],
   "source": [
    "import pandas as pd\n",
    "import numpy as np\n",
    "from scipy.stats import pearsonr\n",
    "from scipy.stats import spearmanr\n",
    "#reading the House Price dataset\n",
    "data = pd.read_csv('D:\\ME Cse\\PYTHON\\correlation\\House Price.csv')\n",
    "#Finding the correlation between YrSold and SalePrice\n",
    "data1 = data['YrSold'].tolist()\n",
    "data2 = data['SalePrice'].tolist()\n",
    "\n",
    "corr,_ = pearsonr(data1,data2)\n",
    "print('pearson correlation:%.6f'% corr)"
   ]
  },
  {
   "cell_type": "code",
   "execution_count": 2,
   "metadata": {},
   "outputs": [
    {
     "name": "stdout",
     "output_type": "stream",
     "text": [
      "spearman correlation:-0.029899\n"
     ]
    }
   ],
   "source": [
    "corr,_ = spearmanr(data1,data2)\n",
    "print('spearman correlation:%.6f'% corr)"
   ]
  },
  {
   "cell_type": "code",
   "execution_count": null,
   "metadata": {},
   "outputs": [],
   "source": []
  }
 ],
 "metadata": {
  "kernelspec": {
   "display_name": "Python 3",
   "language": "python",
   "name": "python3"
  },
  "language_info": {
   "codemirror_mode": {
    "name": "ipython",
    "version": 3
   },
   "file_extension": ".py",
   "mimetype": "text/x-python",
   "name": "python",
   "nbconvert_exporter": "python",
   "pygments_lexer": "ipython3",
   "version": "3.7.7"
  }
 },
 "nbformat": 4,
 "nbformat_minor": 4
}
