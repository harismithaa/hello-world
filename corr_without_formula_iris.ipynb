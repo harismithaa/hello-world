{
 "cells": [
  {
   "cell_type": "code",
   "execution_count": 2,
   "metadata": {},
   "outputs": [
    {
     "name": "stdout",
     "output_type": "stream",
     "text": [
      "pearson correlation : 0.782561\n"
     ]
    }
   ],
   "source": [
    "import pandas as pd\n",
    "import numpy as np\n",
    "from sklearn.datasets import load_iris\n",
    "from scipy.stats import pearsonr\n",
    "from scipy.stats import spearmanr\n",
    "\n",
    "#Loading the iris dataset\n",
    "\n",
    "data = load_iris()\n",
    "\n",
    "#correlation between sepal_length and species\n",
    "data1 = data.data[:,0].tolist()\n",
    "data2 = data.target.tolist()\n",
    "\n",
    "\n",
    "corr,_ = pearsonr(data1,data2)\n",
    "print('pearson correlation : %.6f'% corr)"
   ]
  },
  {
   "cell_type": "code",
   "execution_count": 3,
   "metadata": {},
   "outputs": [
    {
     "name": "stdout",
     "output_type": "stream",
     "text": [
      "pearson correlation : 0.949035\n"
     ]
    }
   ],
   "source": [
    "#correlation between petal_length and species\n",
    "data3 = data.data[:,2].tolist()\n",
    "data4 = data.target.tolist()\n",
    "\n",
    "corr,_ = pearsonr(data3,data4)\n",
    "print('pearson correlation : %.6f'% corr)"
   ]
  },
  {
   "cell_type": "code",
   "execution_count": null,
   "metadata": {},
   "outputs": [],
   "source": []
  }
 ],
 "metadata": {
  "kernelspec": {
   "display_name": "Python 3",
   "language": "python",
   "name": "python3"
  },
  "language_info": {
   "codemirror_mode": {
    "name": "ipython",
    "version": 3
   },
   "file_extension": ".py",
   "mimetype": "text/x-python",
   "name": "python",
   "nbconvert_exporter": "python",
   "pygments_lexer": "ipython3",
   "version": "3.7.7"
  }
 },
 "nbformat": 4,
 "nbformat_minor": 4
}
